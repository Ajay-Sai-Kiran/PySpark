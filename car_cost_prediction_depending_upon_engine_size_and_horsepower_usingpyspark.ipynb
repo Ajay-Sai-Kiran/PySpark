{
  "nbformat": 4,
  "nbformat_minor": 0,
  "metadata": {
    "colab": {
      "name": "car cost prediction depending upon engine size and horsepower .ipynb",
      "provenance": [],
      "authorship_tag": "ABX9TyM7tt7GEWc8JB5ANtqoTxBh",
      "include_colab_link": true
    },
    "kernelspec": {
      "name": "python3",
      "display_name": "Python 3"
    },
    "language_info": {
      "name": "python"
    }
  },
  "cells": [
    {
      "cell_type": "markdown",
      "metadata": {
        "id": "view-in-github",
        "colab_type": "text"
      },
      "source": [
        "<a href=\"https://colab.research.google.com/github/ajaysaikiran2208/PySpark/blob/main/car_cost_prediction_depending_upon_engine_size_and_horsepower_usingpyspark.ipynb\" target=\"_parent\"><img src=\"https://colab.research.google.com/assets/colab-badge.svg\" alt=\"Open In Colab\"/></a>"
      ]
    },
    {
      "cell_type": "code",
      "metadata": {
        "id": "vHPHlxiusTiP",
        "colab": {
          "base_uri": "https://localhost:8080/"
        },
        "outputId": "c692fb32-7df6-4871-99a6-654069f282c0"
      },
      "source": [
        "!pip install pyspark"
      ],
      "execution_count": 3,
      "outputs": [
        {
          "output_type": "stream",
          "text": [
            "Collecting pyspark\n",
            "\u001b[?25l  Downloading https://files.pythonhosted.org/packages/45/b0/9d6860891ab14a39d4bddf80ba26ce51c2f9dc4805e5c6978ac0472c120a/pyspark-3.1.1.tar.gz (212.3MB)\n",
            "\u001b[K     |████████████████████████████████| 212.3MB 80kB/s \n",
            "\u001b[?25hCollecting py4j==0.10.9\n",
            "\u001b[?25l  Downloading https://files.pythonhosted.org/packages/9e/b6/6a4fb90cd235dc8e265a6a2067f2a2c99f0d91787f06aca4bcf7c23f3f80/py4j-0.10.9-py2.py3-none-any.whl (198kB)\n",
            "\u001b[K     |████████████████████████████████| 204kB 51.2MB/s \n",
            "\u001b[?25hBuilding wheels for collected packages: pyspark\n",
            "  Building wheel for pyspark (setup.py) ... \u001b[?25l\u001b[?25hdone\n",
            "  Created wheel for pyspark: filename=pyspark-3.1.1-py2.py3-none-any.whl size=212767604 sha256=e3ee85625a42d8d4a4372faa96454762cb0661df6145a55d5918e8105d680cda\n",
            "  Stored in directory: /root/.cache/pip/wheels/0b/90/c0/01de724414ef122bd05f056541fb6a0ecf47c7ca655f8b3c0f\n",
            "Successfully built pyspark\n",
            "Installing collected packages: py4j, pyspark\n",
            "Successfully installed py4j-0.10.9 pyspark-3.1.1\n"
          ],
          "name": "stdout"
        }
      ]
    },
    {
      "cell_type": "code",
      "metadata": {
        "id": "-NmgUCMeiGkA"
      },
      "source": [
        "import pyspark\n",
        "import pandas as pd\n",
        "import numpy as np"
      ],
      "execution_count": 4,
      "outputs": []
    },
    {
      "cell_type": "code",
      "metadata": {
        "id": "vAcEuqtpn6ww"
      },
      "source": [
        ""
      ],
      "execution_count": null,
      "outputs": []
    },
    {
      "cell_type": "code",
      "metadata": {
        "id": "VxcEbS6jh76r"
      },
      "source": [
        "from pyspark.sql import SparkSession\n",
        "spark=SparkSession.builder.appName('prediction').getOrCreate()"
      ],
      "execution_count": 15,
      "outputs": []
    },
    {
      "cell_type": "code",
      "metadata": {
        "id": "neP0bwWqkygi"
      },
      "source": [
        "training = spark.read.csv('Cars93.csv',header=True,inferSchema=True)"
      ],
      "execution_count": 16,
      "outputs": []
    },
    {
      "cell_type": "code",
      "metadata": {
        "colab": {
          "base_uri": "https://localhost:8080/"
        },
        "id": "dtykObIRoKOI",
        "outputId": "7435298d-986a-4501-dad4-9d82461b81f5"
      },
      "source": [
        "training.show()"
      ],
      "execution_count": 17,
      "outputs": [
        {
          "output_type": "stream",
          "text": [
            "+---+------------+----------+-------+---------+-----+---------+--------+-----------+------------------+----------+---------+----------+----------+----+------------+---------------+------------------+----------+------+---------+-----+-----------+--------------+------------+------+-------+--------------------+\n",
            "|_c0|Manufacturer|     Model|   Type|Min.Price|Price|Max.Price|MPG.city|MPG.highway|           AirBags|DriveTrain|Cylinders|EngineSize|Horsepower| RPM|Rev.per.mile|Man.trans.avail|Fuel.tank.capacity|Passengers|Length|Wheelbase|Width|Turn.circle|Rear.seat.room|Luggage.room|Weight| Origin|                Make|\n",
            "+---+------------+----------+-------+---------+-----+---------+--------+-----------+------------------+----------+---------+----------+----------+----+------------+---------------+------------------+----------+------+---------+-----+-----------+--------------+------------+------+-------+--------------------+\n",
            "|  1|       Acura|   Integra|  Small|     12.9| 15.9|     18.8|      25|         31|              None|     Front|        4|       1.8|       140|6300|        2890|            Yes|              13.2|         5|   177|      102|   68|         37|          26.5|          11|  2705|non-USA|       Acura Integra|\n",
            "|  2|       Acura|    Legend|Midsize|     29.2| 33.9|     38.7|      18|         25|Driver & Passenger|     Front|        6|       3.2|       200|5500|        2335|            Yes|              18.0|         5|   195|      115|   71|         38|            30|          15|  3560|non-USA|        Acura Legend|\n",
            "|  3|        Audi|        90|Compact|     25.9| 29.1|     32.3|      20|         26|       Driver only|     Front|        6|       2.8|       172|5500|        2280|            Yes|              16.9|         5|   180|      102|   67|         37|            28|          14|  3375|non-USA|             Audi 90|\n",
            "|  4|        Audi|       100|Midsize|     30.8| 37.7|     44.6|      19|         26|Driver & Passenger|     Front|        6|       2.8|       172|5500|        2535|            Yes|              21.1|         6|   193|      106|   70|         37|            31|          17|  3405|non-USA|            Audi 100|\n",
            "|  5|         BMW|      535i|Midsize|     23.7| 30.0|     36.2|      22|         30|       Driver only|      Rear|        4|       3.5|       208|5700|        2545|            Yes|              21.1|         4|   186|      109|   69|         39|            27|          13|  3640|non-USA|            BMW 535i|\n",
            "|  6|       Buick|   Century|Midsize|     14.2| 15.7|     17.3|      22|         31|       Driver only|     Front|        4|       2.2|       110|5200|        2565|             No|              16.4|         6|   189|      105|   69|         41|            28|          16|  2880|    USA|       Buick Century|\n",
            "|  7|       Buick|   LeSabre|  Large|     19.9| 20.8|     21.7|      19|         28|       Driver only|     Front|        6|       3.8|       170|4800|        1570|             No|              18.0|         6|   200|      111|   74|         42|          30.5|          17|  3470|    USA|       Buick LeSabre|\n",
            "|  8|       Buick|Roadmaster|  Large|     22.6| 23.7|     24.9|      16|         25|       Driver only|      Rear|        6|       5.7|       180|4000|        1320|             No|              23.0|         6|   216|      116|   78|         45|          30.5|          21|  4105|    USA|    Buick Roadmaster|\n",
            "|  9|       Buick|   Riviera|Midsize|     26.3| 26.3|     26.3|      19|         27|       Driver only|     Front|        6|       3.8|       170|4800|        1690|             No|              18.8|         5|   198|      108|   73|         41|          26.5|          14|  3495|    USA|       Buick Riviera|\n",
            "| 10|    Cadillac|   DeVille|  Large|     33.0| 34.7|     36.3|      16|         25|       Driver only|     Front|        8|       4.9|       200|4100|        1510|             No|              18.0|         6|   206|      114|   73|         43|            35|          18|  3620|    USA|    Cadillac DeVille|\n",
            "| 11|    Cadillac|   Seville|Midsize|     37.5| 40.1|     42.7|      16|         25|Driver & Passenger|     Front|        8|       4.6|       295|6000|        1985|             No|              20.0|         5|   204|      111|   74|         44|            31|          14|  3935|    USA|    Cadillac Seville|\n",
            "| 12|   Chevrolet|  Cavalier|Compact|      8.5| 13.4|     18.3|      25|         36|              None|     Front|        4|       2.2|       110|5200|        2380|            Yes|              15.2|         5|   182|      101|   66|         38|            25|          13|  2490|    USA|  Chevrolet Cavalier|\n",
            "| 13|   Chevrolet|   Corsica|Compact|     11.4| 11.4|     11.4|      25|         34|       Driver only|     Front|        4|       2.2|       110|5200|        2665|            Yes|              15.6|         5|   184|      103|   68|         39|            26|          14|  2785|    USA|   Chevrolet Corsica|\n",
            "| 14|   Chevrolet|    Camaro| Sporty|     13.4| 15.1|     16.8|      19|         28|Driver & Passenger|      Rear|        6|       3.4|       160|4600|        1805|            Yes|              15.5|         4|   193|      101|   74|         43|            25|          13|  3240|    USA|    Chevrolet Camaro|\n",
            "| 15|   Chevrolet|    Lumina|Midsize|     13.4| 15.9|     18.4|      21|         29|              None|     Front|        4|       2.2|       110|5200|        2595|             No|              16.5|         6|   198|      108|   71|         40|          28.5|          16|  3195|    USA|    Chevrolet Lumina|\n",
            "| 16|   Chevrolet|Lumina_APV|    Van|     14.7| 16.3|     18.0|      18|         23|              None|     Front|        6|       3.8|       170|4800|        1690|             No|              20.0|         7|   178|      110|   74|         44|          30.5|          NA|  3715|    USA|Chevrolet Lumina_APV|\n",
            "| 17|   Chevrolet|     Astro|    Van|     14.7| 16.6|     18.6|      15|         20|              None|       4WD|        6|       4.3|       165|4000|        1790|             No|              27.0|         8|   194|      111|   78|         42|          33.5|          NA|  4025|    USA|     Chevrolet Astro|\n",
            "| 18|   Chevrolet|   Caprice|  Large|     18.0| 18.8|     19.6|      17|         26|       Driver only|      Rear|        8|       5.0|       170|4200|        1350|             No|              23.0|         6|   214|      116|   77|         42|          29.5|          20|  3910|    USA|   Chevrolet Caprice|\n",
            "| 19|   Chevrolet|  Corvette| Sporty|     34.6| 38.0|     41.5|      17|         25|       Driver only|      Rear|        8|       5.7|       300|5000|        1450|            Yes|              20.0|         2|   179|       96|   74|         43|            NA|          NA|  3380|    USA|  Chevrolet Corvette|\n",
            "| 20|    Chrylser|  Concorde|  Large|     18.4| 18.4|     18.4|      20|         28|Driver & Passenger|     Front|        6|       3.3|       153|5300|        1990|             No|              18.0|         6|   203|      113|   74|         40|            31|          15|  3515|    USA|   Chrylser Concorde|\n",
            "+---+------------+----------+-------+---------+-----+---------+--------+-----------+------------------+----------+---------+----------+----------+----+------------+---------------+------------------+----------+------+---------+-----+-----------+--------------+------------+------+-------+--------------------+\n",
            "only showing top 20 rows\n",
            "\n"
          ],
          "name": "stdout"
        }
      ]
    },
    {
      "cell_type": "code",
      "metadata": {
        "colab": {
          "base_uri": "https://localhost:8080/"
        },
        "id": "v9ClJI-qoPso",
        "outputId": "8c253aab-627e-4108-83fc-7b47470fc3b0"
      },
      "source": [
        "training.printSchema()"
      ],
      "execution_count": 18,
      "outputs": [
        {
          "output_type": "stream",
          "text": [
            "root\n",
            " |-- _c0: integer (nullable = true)\n",
            " |-- Manufacturer: string (nullable = true)\n",
            " |-- Model: string (nullable = true)\n",
            " |-- Type: string (nullable = true)\n",
            " |-- Min.Price: double (nullable = true)\n",
            " |-- Price: double (nullable = true)\n",
            " |-- Max.Price: double (nullable = true)\n",
            " |-- MPG.city: integer (nullable = true)\n",
            " |-- MPG.highway: integer (nullable = true)\n",
            " |-- AirBags: string (nullable = true)\n",
            " |-- DriveTrain: string (nullable = true)\n",
            " |-- Cylinders: string (nullable = true)\n",
            " |-- EngineSize: double (nullable = true)\n",
            " |-- Horsepower: integer (nullable = true)\n",
            " |-- RPM: integer (nullable = true)\n",
            " |-- Rev.per.mile: integer (nullable = true)\n",
            " |-- Man.trans.avail: string (nullable = true)\n",
            " |-- Fuel.tank.capacity: double (nullable = true)\n",
            " |-- Passengers: integer (nullable = true)\n",
            " |-- Length: integer (nullable = true)\n",
            " |-- Wheelbase: integer (nullable = true)\n",
            " |-- Width: integer (nullable = true)\n",
            " |-- Turn.circle: integer (nullable = true)\n",
            " |-- Rear.seat.room: string (nullable = true)\n",
            " |-- Luggage.room: string (nullable = true)\n",
            " |-- Weight: integer (nullable = true)\n",
            " |-- Origin: string (nullable = true)\n",
            " |-- Make: string (nullable = true)\n",
            "\n"
          ],
          "name": "stdout"
        }
      ]
    },
    {
      "cell_type": "code",
      "metadata": {
        "colab": {
          "base_uri": "https://localhost:8080/"
        },
        "id": "F5BdXRdAobGh",
        "outputId": "abe1706d-a41e-430d-93ed-d46b9a2dbdb4"
      },
      "source": [
        "training.columns"
      ],
      "execution_count": 19,
      "outputs": [
        {
          "output_type": "execute_result",
          "data": {
            "text/plain": [
              "['_c0',\n",
              " 'Manufacturer',\n",
              " 'Model',\n",
              " 'Type',\n",
              " 'Min.Price',\n",
              " 'Price',\n",
              " 'Max.Price',\n",
              " 'MPG.city',\n",
              " 'MPG.highway',\n",
              " 'AirBags',\n",
              " 'DriveTrain',\n",
              " 'Cylinders',\n",
              " 'EngineSize',\n",
              " 'Horsepower',\n",
              " 'RPM',\n",
              " 'Rev.per.mile',\n",
              " 'Man.trans.avail',\n",
              " 'Fuel.tank.capacity',\n",
              " 'Passengers',\n",
              " 'Length',\n",
              " 'Wheelbase',\n",
              " 'Width',\n",
              " 'Turn.circle',\n",
              " 'Rear.seat.room',\n",
              " 'Luggage.room',\n",
              " 'Weight',\n",
              " 'Origin',\n",
              " 'Make']"
            ]
          },
          "metadata": {
            "tags": []
          },
          "execution_count": 19
        }
      ]
    },
    {
      "cell_type": "code",
      "metadata": {
        "id": "lF02w3sxoeRY"
      },
      "source": [
        "from pyspark.ml.feature import VectorAssembler\n",
        "featureassembler=VectorAssembler(inputCols=[\"EngineSize\",\"Horsepower\"],outputCol=\"Independent Features\")"
      ],
      "execution_count": 22,
      "outputs": []
    },
    {
      "cell_type": "code",
      "metadata": {
        "id": "Zx5bAyk-or7I"
      },
      "source": [
        "output=featureassembler.transform(training)"
      ],
      "execution_count": 23,
      "outputs": []
    },
    {
      "cell_type": "code",
      "metadata": {
        "colab": {
          "base_uri": "https://localhost:8080/"
        },
        "id": "lEFcaO6Po9QR",
        "outputId": "3724d80d-4e2c-4cd5-886f-54ea75f9d3c8"
      },
      "source": [
        "output.show()"
      ],
      "execution_count": 24,
      "outputs": [
        {
          "output_type": "stream",
          "text": [
            "+---+------------+----------+-------+---------+-----+---------+--------+-----------+------------------+----------+---------+----------+----------+----+------------+---------------+------------------+----------+------+---------+-----+-----------+--------------+------------+------+-------+--------------------+--------------------+\n",
            "|_c0|Manufacturer|     Model|   Type|Min.Price|Price|Max.Price|MPG.city|MPG.highway|           AirBags|DriveTrain|Cylinders|EngineSize|Horsepower| RPM|Rev.per.mile|Man.trans.avail|Fuel.tank.capacity|Passengers|Length|Wheelbase|Width|Turn.circle|Rear.seat.room|Luggage.room|Weight| Origin|                Make|Independent Features|\n",
            "+---+------------+----------+-------+---------+-----+---------+--------+-----------+------------------+----------+---------+----------+----------+----+------------+---------------+------------------+----------+------+---------+-----+-----------+--------------+------------+------+-------+--------------------+--------------------+\n",
            "|  1|       Acura|   Integra|  Small|     12.9| 15.9|     18.8|      25|         31|              None|     Front|        4|       1.8|       140|6300|        2890|            Yes|              13.2|         5|   177|      102|   68|         37|          26.5|          11|  2705|non-USA|       Acura Integra|         [1.8,140.0]|\n",
            "|  2|       Acura|    Legend|Midsize|     29.2| 33.9|     38.7|      18|         25|Driver & Passenger|     Front|        6|       3.2|       200|5500|        2335|            Yes|              18.0|         5|   195|      115|   71|         38|            30|          15|  3560|non-USA|        Acura Legend|         [3.2,200.0]|\n",
            "|  3|        Audi|        90|Compact|     25.9| 29.1|     32.3|      20|         26|       Driver only|     Front|        6|       2.8|       172|5500|        2280|            Yes|              16.9|         5|   180|      102|   67|         37|            28|          14|  3375|non-USA|             Audi 90|         [2.8,172.0]|\n",
            "|  4|        Audi|       100|Midsize|     30.8| 37.7|     44.6|      19|         26|Driver & Passenger|     Front|        6|       2.8|       172|5500|        2535|            Yes|              21.1|         6|   193|      106|   70|         37|            31|          17|  3405|non-USA|            Audi 100|         [2.8,172.0]|\n",
            "|  5|         BMW|      535i|Midsize|     23.7| 30.0|     36.2|      22|         30|       Driver only|      Rear|        4|       3.5|       208|5700|        2545|            Yes|              21.1|         4|   186|      109|   69|         39|            27|          13|  3640|non-USA|            BMW 535i|         [3.5,208.0]|\n",
            "|  6|       Buick|   Century|Midsize|     14.2| 15.7|     17.3|      22|         31|       Driver only|     Front|        4|       2.2|       110|5200|        2565|             No|              16.4|         6|   189|      105|   69|         41|            28|          16|  2880|    USA|       Buick Century|         [2.2,110.0]|\n",
            "|  7|       Buick|   LeSabre|  Large|     19.9| 20.8|     21.7|      19|         28|       Driver only|     Front|        6|       3.8|       170|4800|        1570|             No|              18.0|         6|   200|      111|   74|         42|          30.5|          17|  3470|    USA|       Buick LeSabre|         [3.8,170.0]|\n",
            "|  8|       Buick|Roadmaster|  Large|     22.6| 23.7|     24.9|      16|         25|       Driver only|      Rear|        6|       5.7|       180|4000|        1320|             No|              23.0|         6|   216|      116|   78|         45|          30.5|          21|  4105|    USA|    Buick Roadmaster|         [5.7,180.0]|\n",
            "|  9|       Buick|   Riviera|Midsize|     26.3| 26.3|     26.3|      19|         27|       Driver only|     Front|        6|       3.8|       170|4800|        1690|             No|              18.8|         5|   198|      108|   73|         41|          26.5|          14|  3495|    USA|       Buick Riviera|         [3.8,170.0]|\n",
            "| 10|    Cadillac|   DeVille|  Large|     33.0| 34.7|     36.3|      16|         25|       Driver only|     Front|        8|       4.9|       200|4100|        1510|             No|              18.0|         6|   206|      114|   73|         43|            35|          18|  3620|    USA|    Cadillac DeVille|         [4.9,200.0]|\n",
            "| 11|    Cadillac|   Seville|Midsize|     37.5| 40.1|     42.7|      16|         25|Driver & Passenger|     Front|        8|       4.6|       295|6000|        1985|             No|              20.0|         5|   204|      111|   74|         44|            31|          14|  3935|    USA|    Cadillac Seville|         [4.6,295.0]|\n",
            "| 12|   Chevrolet|  Cavalier|Compact|      8.5| 13.4|     18.3|      25|         36|              None|     Front|        4|       2.2|       110|5200|        2380|            Yes|              15.2|         5|   182|      101|   66|         38|            25|          13|  2490|    USA|  Chevrolet Cavalier|         [2.2,110.0]|\n",
            "| 13|   Chevrolet|   Corsica|Compact|     11.4| 11.4|     11.4|      25|         34|       Driver only|     Front|        4|       2.2|       110|5200|        2665|            Yes|              15.6|         5|   184|      103|   68|         39|            26|          14|  2785|    USA|   Chevrolet Corsica|         [2.2,110.0]|\n",
            "| 14|   Chevrolet|    Camaro| Sporty|     13.4| 15.1|     16.8|      19|         28|Driver & Passenger|      Rear|        6|       3.4|       160|4600|        1805|            Yes|              15.5|         4|   193|      101|   74|         43|            25|          13|  3240|    USA|    Chevrolet Camaro|         [3.4,160.0]|\n",
            "| 15|   Chevrolet|    Lumina|Midsize|     13.4| 15.9|     18.4|      21|         29|              None|     Front|        4|       2.2|       110|5200|        2595|             No|              16.5|         6|   198|      108|   71|         40|          28.5|          16|  3195|    USA|    Chevrolet Lumina|         [2.2,110.0]|\n",
            "| 16|   Chevrolet|Lumina_APV|    Van|     14.7| 16.3|     18.0|      18|         23|              None|     Front|        6|       3.8|       170|4800|        1690|             No|              20.0|         7|   178|      110|   74|         44|          30.5|          NA|  3715|    USA|Chevrolet Lumina_APV|         [3.8,170.0]|\n",
            "| 17|   Chevrolet|     Astro|    Van|     14.7| 16.6|     18.6|      15|         20|              None|       4WD|        6|       4.3|       165|4000|        1790|             No|              27.0|         8|   194|      111|   78|         42|          33.5|          NA|  4025|    USA|     Chevrolet Astro|         [4.3,165.0]|\n",
            "| 18|   Chevrolet|   Caprice|  Large|     18.0| 18.8|     19.6|      17|         26|       Driver only|      Rear|        8|       5.0|       170|4200|        1350|             No|              23.0|         6|   214|      116|   77|         42|          29.5|          20|  3910|    USA|   Chevrolet Caprice|         [5.0,170.0]|\n",
            "| 19|   Chevrolet|  Corvette| Sporty|     34.6| 38.0|     41.5|      17|         25|       Driver only|      Rear|        8|       5.7|       300|5000|        1450|            Yes|              20.0|         2|   179|       96|   74|         43|            NA|          NA|  3380|    USA|  Chevrolet Corvette|         [5.7,300.0]|\n",
            "| 20|    Chrylser|  Concorde|  Large|     18.4| 18.4|     18.4|      20|         28|Driver & Passenger|     Front|        6|       3.3|       153|5300|        1990|             No|              18.0|         6|   203|      113|   74|         40|            31|          15|  3515|    USA|   Chrylser Concorde|         [3.3,153.0]|\n",
            "+---+------------+----------+-------+---------+-----+---------+--------+-----------+------------------+----------+---------+----------+----------+----+------------+---------------+------------------+----------+------+---------+-----+-----------+--------------+------------+------+-------+--------------------+--------------------+\n",
            "only showing top 20 rows\n",
            "\n"
          ],
          "name": "stdout"
        }
      ]
    },
    {
      "cell_type": "code",
      "metadata": {
        "colab": {
          "base_uri": "https://localhost:8080/"
        },
        "id": "tzfMj183pE4A",
        "outputId": "9b86c0ba-6181-40c9-aeff-c3d13175bb01"
      },
      "source": [
        "output.columns"
      ],
      "execution_count": 25,
      "outputs": [
        {
          "output_type": "execute_result",
          "data": {
            "text/plain": [
              "['_c0',\n",
              " 'Manufacturer',\n",
              " 'Model',\n",
              " 'Type',\n",
              " 'Min.Price',\n",
              " 'Price',\n",
              " 'Max.Price',\n",
              " 'MPG.city',\n",
              " 'MPG.highway',\n",
              " 'AirBags',\n",
              " 'DriveTrain',\n",
              " 'Cylinders',\n",
              " 'EngineSize',\n",
              " 'Horsepower',\n",
              " 'RPM',\n",
              " 'Rev.per.mile',\n",
              " 'Man.trans.avail',\n",
              " 'Fuel.tank.capacity',\n",
              " 'Passengers',\n",
              " 'Length',\n",
              " 'Wheelbase',\n",
              " 'Width',\n",
              " 'Turn.circle',\n",
              " 'Rear.seat.room',\n",
              " 'Luggage.room',\n",
              " 'Weight',\n",
              " 'Origin',\n",
              " 'Make',\n",
              " 'Independent Features']"
            ]
          },
          "metadata": {
            "tags": []
          },
          "execution_count": 25
        }
      ]
    },
    {
      "cell_type": "code",
      "metadata": {
        "id": "NYa8SjQlpINo"
      },
      "source": [
        "finalized_data=output.select(\"Independent Features\",\"Price\")"
      ],
      "execution_count": 26,
      "outputs": []
    },
    {
      "cell_type": "code",
      "metadata": {
        "colab": {
          "base_uri": "https://localhost:8080/"
        },
        "id": "YO3cSewlpTfZ",
        "outputId": "d900e74d-9c9f-4dc5-a22e-b896faef3994"
      },
      "source": [
        "finalized_data.show()"
      ],
      "execution_count": 27,
      "outputs": [
        {
          "output_type": "stream",
          "text": [
            "+--------------------+-----+\n",
            "|Independent Features|Price|\n",
            "+--------------------+-----+\n",
            "|         [1.8,140.0]| 15.9|\n",
            "|         [3.2,200.0]| 33.9|\n",
            "|         [2.8,172.0]| 29.1|\n",
            "|         [2.8,172.0]| 37.7|\n",
            "|         [3.5,208.0]| 30.0|\n",
            "|         [2.2,110.0]| 15.7|\n",
            "|         [3.8,170.0]| 20.8|\n",
            "|         [5.7,180.0]| 23.7|\n",
            "|         [3.8,170.0]| 26.3|\n",
            "|         [4.9,200.0]| 34.7|\n",
            "|         [4.6,295.0]| 40.1|\n",
            "|         [2.2,110.0]| 13.4|\n",
            "|         [2.2,110.0]| 11.4|\n",
            "|         [3.4,160.0]| 15.1|\n",
            "|         [2.2,110.0]| 15.9|\n",
            "|         [3.8,170.0]| 16.3|\n",
            "|         [4.3,165.0]| 16.6|\n",
            "|         [5.0,170.0]| 18.8|\n",
            "|         [5.7,300.0]| 38.0|\n",
            "|         [3.3,153.0]| 18.4|\n",
            "+--------------------+-----+\n",
            "only showing top 20 rows\n",
            "\n"
          ],
          "name": "stdout"
        }
      ]
    },
    {
      "cell_type": "code",
      "metadata": {
        "id": "z88sSuh1pWxQ"
      },
      "source": [
        "from pyspark.ml.regression import LinearRegression\n",
        "##train test split\n",
        "train_data,test_data=finalized_data.randomSplit([0.75,0.25])\n",
        "regressor=LinearRegression(featuresCol='Independent Features', labelCol='Price')\n",
        "regressor=regressor.fit(train_data)"
      ],
      "execution_count": 28,
      "outputs": []
    },
    {
      "cell_type": "code",
      "metadata": {
        "colab": {
          "base_uri": "https://localhost:8080/"
        },
        "id": "-aMcQm6hpc1I",
        "outputId": "eed88a4b-d0b2-4f7a-be70-0072a53ed353"
      },
      "source": [
        "regressor.coefficients"
      ],
      "execution_count": 29,
      "outputs": [
        {
          "output_type": "execute_result",
          "data": {
            "text/plain": [
              "DenseVector([-0.457, 0.1763])"
            ]
          },
          "metadata": {
            "tags": []
          },
          "execution_count": 29
        }
      ]
    },
    {
      "cell_type": "code",
      "metadata": {
        "colab": {
          "base_uri": "https://localhost:8080/"
        },
        "id": "WyMn9V5EpfSa",
        "outputId": "5167a3ca-737d-40d8-f2ea-d99ba41f2330"
      },
      "source": [
        "regressor.intercept"
      ],
      "execution_count": 30,
      "outputs": [
        {
          "output_type": "execute_result",
          "data": {
            "text/plain": [
              "-4.3623589710816315"
            ]
          },
          "metadata": {
            "tags": []
          },
          "execution_count": 30
        }
      ]
    },
    {
      "cell_type": "code",
      "metadata": {
        "id": "Z0VgW91zpiGC"
      },
      "source": [
        "pred_results=regressor.evaluate(test_data)"
      ],
      "execution_count": 31,
      "outputs": []
    },
    {
      "cell_type": "code",
      "metadata": {
        "colab": {
          "base_uri": "https://localhost:8080/"
        },
        "id": "8Q9_wdOGpkdJ",
        "outputId": "9c0bcf87-5124-4308-ee64-ce7271fed6b8"
      },
      "source": [
        "pred_results.predictions.show()"
      ],
      "execution_count": 32,
      "outputs": [
        {
          "output_type": "stream",
          "text": [
            "+--------------------+-----+------------------+\n",
            "|Independent Features|Price|        prediction|\n",
            "+--------------------+-----+------------------+\n",
            "|          [1.2,73.0]|  8.4| 7.959607037648134|\n",
            "|          [1.5,92.0]| 12.2|11.172327766982582|\n",
            "|         [1.5,102.0]| 12.1|12.935384129009345|\n",
            "|         [1.6,100.0]| 14.1| 12.53707740376519|\n",
            "|          [1.8,81.0]|  9.1| 9.095879410236739|\n",
            "|         [1.8,140.0]| 15.9| 19.49791194619464|\n",
            "|         [2.2,110.0]| 15.7|14.025961048759148|\n",
            "|         [2.2,135.0]| 18.4|18.433601953826056|\n",
            "|         [2.2,140.0]| 17.5|19.315130134839436|\n",
            "|         [2.3,114.0]| 22.7|14.685488140731055|\n",
            "|         [2.3,130.0]| 31.9|17.506378319973877|\n",
            "|         [2.3,155.0]| 13.5|21.914019225040782|\n",
            "|         [2.5,100.0]| 15.6|12.125818328215983|\n",
            "|         [2.5,109.0]| 19.7|13.712569054040072|\n",
            "|         [2.5,164.0]| 16.5|23.409379045187265|\n",
            "|         [2.8,172.0]| 37.7|24.682737776292278|\n",
            "|         [3.0,140.0]| 20.2| 18.94956651212903|\n",
            "|         [3.0,155.0]| 19.1|21.594151055169178|\n",
            "|         [3.0,160.0]| 21.5|22.475679236182557|\n",
            "|         [3.0,185.0]| 28.0| 26.88332014124947|\n",
            "+--------------------+-----+------------------+\n",
            "only showing top 20 rows\n",
            "\n"
          ],
          "name": "stdout"
        }
      ]
    },
    {
      "cell_type": "code",
      "metadata": {
        "colab": {
          "base_uri": "https://localhost:8080/"
        },
        "id": "6dXjkZeXppEC",
        "outputId": "0d1e478b-8f77-4af4-9c39-483380a0a798"
      },
      "source": [
        "pred_results.meanAbsoluteError,pred_results.meanSquaredError"
      ],
      "execution_count": 33,
      "outputs": [
        {
          "output_type": "execute_result",
          "data": {
            "text/plain": [
              "(4.642353009010336, 46.52632731735659)"
            ]
          },
          "metadata": {
            "tags": []
          },
          "execution_count": 33
        }
      ]
    }
  ]
}